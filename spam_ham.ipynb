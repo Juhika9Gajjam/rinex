{
  "nbformat": 4,
  "nbformat_minor": 0,
  "metadata": {
    "colab": {
      "provenance": [],
      "toc_visible": true,
      "collapsed_sections": []
    },
    "kernelspec": {
      "name": "python3",
      "display_name": "Python 3"
    },
    "language_info": {
      "name": "python"
    }
  },
  "cells": [
    {
      "cell_type": "code",
      "execution_count": null,
      "metadata": {
        "id": "wLie42tGBB9z"
      },
      "outputs": [],
      "source": [
        "#We are creating a STREAMLIT WEB APPLICATION"
      ]
    },
    {
      "cell_type": "code",
      "source": [
        "#Deployment are of 2 types\n",
        "#1.Temporary deployment\n",
        "#2.Permanent deployment"
      ],
      "metadata": {
        "id": "JA-7LyvCBUk-"
      },
      "execution_count": null,
      "outputs": []
    },
    {
      "cell_type": "code",
      "source": [
        "#Temporary deployment - Local host"
      ],
      "metadata": {
        "id": "jn8R_s4cBpAc"
      },
      "execution_count": null,
      "outputs": []
    },
    {
      "cell_type": "code",
      "source": [
        "!pip install streamlit --quiet #Installing the streamlit library"
      ],
      "metadata": {
        "id": "sOhJaQeCB6o2"
      },
      "execution_count": null,
      "outputs": []
    },
    {
      "cell_type": "code",
      "source": [
        "%%writefile app.py \n",
        "#%%writefile is amagic command to create app.py file\n",
        "import streamlit as st\n",
        "import joblib\n",
        "model = joblib.load('spam-ham')\n",
        "st.title('SPAM-HAM CLASSIFIER')#creates a title in web app\n",
        "ip = st.text_input('Enter the message') #creates a text box in web app\n",
        "op = model.predict([ip])\n",
        "if st.button('Predict'):\n",
        "  st.title(op[0]) # st.button will create a button with name Predict\n",
        "  #st.title(op[0]) # the output will be displayed as a title"
      ],
      "metadata": {
        "colab": {
          "base_uri": "https://localhost:8080/"
        },
        "id": "k7YyIUdVCJHC",
        "outputId": "2c643a25-787e-4ebd-8d39-ad0fa52cbe6e"
      },
      "execution_count": null,
      "outputs": [
        {
          "output_type": "stream",
          "name": "stdout",
          "text": [
            "Overwriting app.py\n"
          ]
        }
      ]
    },
    {
      "cell_type": "code",
      "source": [
        "#TEMPORARY DEPLOYMENT PART\n",
        "!streamlit run app.py & npx localtunnel --port 8501\n",
        "#8501 is the default port number for local tunnel"
      ],
      "metadata": {
        "colab": {
          "base_uri": "https://localhost:8080/"
        },
        "id": "UcsNviLUEB6u",
        "outputId": "600ed449-023a-4ec2-b5e3-32b58f2aff02"
      },
      "execution_count": null,
      "outputs": [
        {
          "output_type": "stream",
          "name": "stdout",
          "text": [
            "2022-08-08 15:31:49.653 INFO    numexpr.utils: NumExpr defaulting to 2 threads.\n",
            "\u001b[0m\n",
            "\u001b[34m\u001b[1m  You can now view your Streamlit app in your browser.\u001b[0m\n",
            "\u001b[0m\n",
            "\u001b[34m  Network URL: \u001b[0m\u001b[1mhttp://172.28.0.2:8501\u001b[0m\n",
            "\u001b[34m  External URL: \u001b[0m\u001b[1mhttp://35.196.212.222:8501\u001b[0m\n",
            "\u001b[0m\n",
            "\u001b[K\u001b[?25hnpx: installed 22 in 4.559s\n",
            "your url is: https://brave-taxis-design-35-196-212-222.loca.lt\n",
            "\u001b[34m  Stopping...\u001b[0m\n",
            "^C\n"
          ]
        }
      ]
    },
    {
      "cell_type": "code",
      "source": [
        "#Windows + SHIFT + S"
      ],
      "metadata": {
        "id": "OeFE196HFWa2"
      },
      "execution_count": null,
      "outputs": []
    }
  ]
}